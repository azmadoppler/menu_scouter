{
 "cells": [
  {
   "cell_type": "code",
   "execution_count": 10,
   "id": "7ed955cb",
   "metadata": {
    "scrolled": false
   },
   "outputs": [
    {
     "name": "stdout",
     "output_type": "stream",
     "text": [
      "Extracted Japanese Text:\n",
      "Lu\n",
      "\n",
      "仏産BBCポボークチーズカツレツorワースド\n",
      "国産孝胸内ハーブグリル\n",
      "\n",
      "根業とキノコ入りハンパーグ(チーズ+100)\n",
      "胃魚グリエ リュフ風味 ランチ\n",
      "\n",
      "焼肉ランチ(ハラミ1409)ランチ\n",
      "\n",
      " \n",
      "\n",
      "  \n",
      "\n",
      "食後のフーヒーデミタス…・・100 アイスラ-\n",
      "クレムキャラメルヴァニラ風味 ブリン」\n",
      "生ビールグラス\n",
      "\n",
      "グラスワイン カベルネソーヴィニョン(夫)シャルドネ(台)\n",
      "お水はセルフでお願い致します。 カウンター上ポットよりお\n",
      "※のひとりで切り族りしています。 匠様の協力に剖致しま*\n",
      "\n",
      " \n",
      "\n",
      " \n",
      "\f",
      "\n"
     ]
    }
   ],
   "source": [
    "import pytesseract\n",
    "from PIL import Image\n",
    "\n",
    "# Path to your Tesseract executable (update this if necessary)\n",
    "pytesseract.pytesseract.tesseract_cmd = '/usr/bin/tesseract'\n",
    "\n",
    "# Load an image\n",
    "image_path = 'cropped_temp.png'\n",
    "image = Image.open(image_path)\n",
    "\n",
    "# Perform OCR on the image to extract text\n",
    "extracted_text = pytesseract.image_to_string(image, lang='jpn')\n",
    "\n",
    "# Print the extracted Japanese text\n",
    "print(\"Extracted Japanese Text:\")\n",
    "print(extracted_text)\n"
   ]
  },
  {
   "cell_type": "code",
   "execution_count": 5,
   "id": "14c84bc1",
   "metadata": {},
   "outputs": [
    {
     "data": {
      "text/plain": [
       "'キりと生ビール\\n大ジョッキ 080m\\n四ジョッキ 550m\\n由ジョッキ 420m\\nキりひ黒本ビール.\\n80m\\n550m\\n420m\\n\\n \\n\\x0c'"
      ]
     },
     "execution_count": 5,
     "metadata": {},
     "output_type": "execute_result"
    }
   ],
   "source": []
  },
  {
   "cell_type": "code",
   "execution_count": null,
   "id": "9d4e5657",
   "metadata": {},
   "outputs": [],
   "source": []
  },
  {
   "cell_type": "code",
   "execution_count": null,
   "id": "a835be98",
   "metadata": {},
   "outputs": [],
   "source": []
  },
  {
   "cell_type": "code",
   "execution_count": 8,
   "id": "a68ff0c8",
   "metadata": {},
   "outputs": [
    {
     "name": "stdout",
     "output_type": "stream",
     "text": [
      "Original Text:\n",
      "こんにちは\n",
      "\n",
      "Translated Text:\n",
      "Hello\n"
     ]
    }
   ],
   "source": [
    "# Initialize the translator\n",
    "translator = Translator()\n",
    "\n",
    "# Translate the extracted text to Japanese\n",
    "translated_text = translator.translate(japanese_text, src='ja', dest='en')\n",
    "\n",
    "# Print the original and translated text\n",
    "print(\"Original Text:\")\n",
    "print(japanese_text)\n",
    "\n",
    "print(\"\\nTranslated Text:\")\n",
    "print(translated_text.text)"
   ]
  },
  {
   "cell_type": "code",
   "execution_count": 11,
   "id": "9d803ddc",
   "metadata": {},
   "outputs": [
    {
     "name": "stdout",
     "output_type": "stream",
     "text": [
      "Original Text:\n",
      "Lu\n",
      "\n",
      "仏産BBCポボークチーズカツレツorワースド\n",
      "国産孝胸内ハーブグリル\n",
      "\n",
      "根業とキノコ入りハンパーグ(チーズ+100)\n",
      "胃魚グリエ リュフ風味 ランチ\n",
      "\n",
      "焼肉ランチ(ハラミ1409)ランチ\n",
      "\n",
      " \n",
      "\n",
      "  \n",
      "\n",
      "食後のフーヒーデミタス…・・100 アイスラ-\n",
      "クレムキャラメルヴァニラ風味 ブリン」\n",
      "生ビールグラス\n",
      "\n",
      "グラスワイン カベルネソーヴィニョン(夫)シャルドネ(台)\n",
      "お水はセルフでお願い致します。 カウンター上ポットよりお\n",
      "※のひとりで切り族りしています。 匠様の協力に剖致しま*\n",
      "\n",
      " \n",
      "\n",
      " \n",
      "\f",
      "\n",
      "\n",
      "Translated Text:\n",
      "Lu\n",
      "\n",
      "French BBC Pobolk Cheese Cats or Worth\n",
      "Domestic Putch inner Herb Grill\n",
      "\n",
      "Humper with root industry and mushrooms (cheese +100)\n",
      "Gastrian fish Gleierhuf flavored lunch\n",
      "\n",
      "Yakiniku Lunch (Harami 1409) Lunch\n",
      "\n",
      " \n",
      "\n",
      "  \n",
      "\n",
      "After a meal Huhe Demitas ... ・ ・ ・ 100 Icera-\n",
      "Crem caramelvanilla flavored brin \"\n",
      "Draft beer glass\n",
      "\n",
      "Glass Wine Cabellen Sauvignon (husband) Chardonnay (stand)\n",
      "Please give me water by yourself.From the pot on the counter\n",
      "* I am a clan with one person.Imp first with the craftsman's cooperation*\n"
     ]
    }
   ],
   "source": [
    "# Initialize the translator\n",
    "translator = Translator()\n",
    "\n",
    "# Translate the extracted text to Japanese\n",
    "translated_text = translator.translate(extracted_text, src='ja', dest='en')\n",
    "\n",
    "# Print the original and translated text\n",
    "print(\"Original Text:\")\n",
    "print(extracted_text)\n",
    "\n",
    "print(\"\\nTranslated Text:\")\n",
    "print(translated_text.text)"
   ]
  },
  {
   "cell_type": "code",
   "execution_count": null,
   "id": "8b0ede0f",
   "metadata": {},
   "outputs": [],
   "source": []
  },
  {
   "cell_type": "code",
   "execution_count": null,
   "id": "3d1f8c81",
   "metadata": {},
   "outputs": [],
   "source": []
  },
  {
   "cell_type": "code",
   "execution_count": 1,
   "id": "e937f553",
   "metadata": {},
   "outputs": [
    {
     "name": "stdout",
     "output_type": "stream",
     "text": [
      "こんにちは\n"
     ]
    }
   ],
   "source": []
  },
  {
   "cell_type": "code",
   "execution_count": null,
   "id": "976803f0",
   "metadata": {},
   "outputs": [],
   "source": []
  },
  {
   "cell_type": "code",
   "execution_count": null,
   "id": "db72e527",
   "metadata": {},
   "outputs": [],
   "source": []
  },
  {
   "cell_type": "code",
   "execution_count": null,
   "id": "38c034e9",
   "metadata": {},
   "outputs": [],
   "source": []
  },
  {
   "cell_type": "code",
   "execution_count": null,
   "id": "ff97701b",
   "metadata": {},
   "outputs": [],
   "source": []
  },
  {
   "cell_type": "code",
   "execution_count": null,
   "id": "b76e26be",
   "metadata": {},
   "outputs": [],
   "source": []
  },
  {
   "cell_type": "code",
   "execution_count": null,
   "id": "ebd1bdcb",
   "metadata": {},
   "outputs": [],
   "source": []
  },
  {
   "cell_type": "code",
   "execution_count": null,
   "id": "3b60360c",
   "metadata": {},
   "outputs": [],
   "source": []
  },
  {
   "cell_type": "code",
   "execution_count": null,
   "id": "e001d986",
   "metadata": {},
   "outputs": [],
   "source": []
  },
  {
   "cell_type": "code",
   "execution_count": null,
   "id": "3b746cc4",
   "metadata": {},
   "outputs": [],
   "source": []
  },
  {
   "cell_type": "code",
   "execution_count": null,
   "id": "3ab6ec05",
   "metadata": {},
   "outputs": [],
   "source": []
  },
  {
   "cell_type": "code",
   "execution_count": null,
   "id": "79664b26",
   "metadata": {},
   "outputs": [],
   "source": []
  },
  {
   "cell_type": "code",
   "execution_count": null,
   "id": "9b03de5d",
   "metadata": {},
   "outputs": [],
   "source": []
  },
  {
   "cell_type": "code",
   "execution_count": 2,
   "id": "b51f1790",
   "metadata": {
    "scrolled": true
   },
   "outputs": [
    {
     "name": "stdout",
     "output_type": "stream",
     "text": [
      "Original Text:\n",
      "メニ ュー HiR お 33 め お 弁 ぎ\n",
      "\n",
      " \n",
      "\n",
      "menu “Appetizers Special Bento\n",
      "EX zz 29 お 持ち 帰り\n",
      "ides Entrees Sushi menu ‘Take out\n",
      "プ ィ ナー SS Rote ERR\n",
      "Dinner ments és Snacks ~ Delivery\n",
      "Svt OUD TF TR\n",
      "Tunck menu DPinks “Reservation I\\\n",
      "\n",
      " \n",
      "\n",
      " \n",
      "\n",
      " \n",
      "\n",
      "itt) = OAS 6 Os\n",
      "nop As ene ze Ng a\n",
      "+39\"\n",
      "\n",
      "デザ - ト ウイ ン\n",
      "\n",
      "“Desserts “Wine list 8 SuSHI\n",
      "\n",
      "Zhe 2 N.S ae SE Japanese\n",
      "\n",
      "K °8 yonKyey NC ~ Restaurant\n",
      "“Shame «01234-56789 Bar\n",
      "\n",
      "pixtastock.com - 6717902\n",
      "\f",
      "\n",
      "\n",
      "Translated Text:\n",
      "Menu HIR 33\n",
      "\n",
      " \n",
      "\n",
      "Menu \"Appetizers Special Bento\n",
      "EX ZZ 29 Bring home\n",
      "IDES ENTREES SUSHI MENU ‘TAKE OUT\n",
      "Piina SS ROTE ERR\n",
      "DINNER MENTS éS Snacks ~ Delivery\n",
      "SVT OUD TF TR\n",
      "TUNCK MENU DPINKS \"Reservation I \\\n",
      "\n",
      " \n",
      "\n",
      " \n",
      "\n",
      " \n",
      "\n",
      "ITT) = OAS 6 OS\n",
      "NOP AS ENE ZE NG A\n",
      "+39 \"\n",
      "\n",
      "Desza -Tien\n",
      "\n",
      "“Desserts“ Wine List 8 Sushi ”\n",
      "\n",
      "ZHE 2 N.SE SE JAPANESE\n",
      "\n",
      "K ° 8 YONKYEY NC ~ Restaurant\n",
      "“Shame« 01234-56789 BAR\n",
      "\n",
      "pixTASTOCK.com --6717902\n"
     ]
    }
   ],
   "source": [
    "import pytesseract\n",
    "from PIL import Image\n",
    "from googletrans import Translator\n",
    "\n",
    "# Path to your Tesseract executable (if not in PATH)\n",
    "pytesseract.pytesseract.tesseract_cmd = '/usr/bin/tesseract'\n",
    "\n",
    "# Load an image\n",
    "image_path = '1.jpg'\n",
    "image = Image.open(image_path)\n",
    "\n",
    "# Perform OCR on the image\n",
    "extracted_text = pytesseract.image_to_string(image, lang='eng+jpn')\n",
    "\n",
    "# Initialize the translator\n",
    "translator = Translator()\n",
    "\n",
    "# Translate the extracted text to Japanese\n",
    "translated_text = translator.translate(extracted_text, src='ja', dest='en')\n",
    "\n",
    "# Print the original and translated text\n",
    "print(\"Original Text:\")\n",
    "print(extracted_text)\n",
    "\n",
    "print(\"\\nTranslated Text:\")\n",
    "print(translated_text.text)\n"
   ]
  }
 ],
 "metadata": {
  "kernelspec": {
   "display_name": "Python 3 (ipykernel)",
   "language": "python",
   "name": "python3"
  },
  "language_info": {
   "codemirror_mode": {
    "name": "ipython",
    "version": 3
   },
   "file_extension": ".py",
   "mimetype": "text/x-python",
   "name": "python",
   "nbconvert_exporter": "python",
   "pygments_lexer": "ipython3",
   "version": "3.7.16"
  }
 },
 "nbformat": 4,
 "nbformat_minor": 5
}

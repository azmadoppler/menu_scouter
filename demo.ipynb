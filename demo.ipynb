{
 "cells": [
  {
   "cell_type": "code",
   "execution_count": 1,
   "id": "7ed955cb",
   "metadata": {
    "scrolled": false
   },
   "outputs": [
    {
     "name": "stdout",
     "output_type": "stream",
     "text": [
      "Extracted Japanese Text:\n",
      "Lu\n",
      "\n",
      "仏産BBCポボークチーズカツレツorワースド\n",
      "国産孝胸内ハーブグリル\n",
      "\n",
      "根業とキノコ入りハンパーグ(チーズ+100)\n",
      "胃魚グリエ リュフ風味 ランチ\n",
      "\n",
      "焼肉ランチ(ハラミ1409)ランチ\n",
      "\n",
      " \n",
      "\n",
      "  \n",
      "\n",
      "食後のフーヒーデミタス…・・100 アイスラ-\n",
      "クレムキャラメルヴァニラ風味 ブリン」\n",
      "生ビールグラス\n",
      "\n",
      "グラスワイン カベルネソーヴィニョン(夫)シャルドネ(台)\n",
      "お水はセルフでお願い致します。 カウンター上ポットよりお\n",
      "※のひとりで切り族りしています。 匠様の協力に剖致しま*\n",
      "\n",
      " \n",
      "\n",
      " \n",
      "\f",
      "\n"
     ]
    }
   ],
   "source": [
    "import pytesseract\n",
    "from PIL import Image\n",
    "\n",
    "\n",
    "# Path to your Tesseract executable (update this if necessary)\n",
    "pytesseract.pytesseract.tesseract_cmd = '/usr/bin/tesseract'\n",
    "\n",
    "# Load an image\n",
    "image_path = 'cropped_temp.png'\n",
    "image = Image.open(image_path)\n",
    "\n",
    "# Perform OCR on the image to extract text\n",
    "extracted_text = pytesseract.image_to_string(image, lang='jpn')\n",
    "\n",
    "# Print the extracted Japanese text\n",
    "print(\"Extracted Japanese Text:\")\n",
    "print(extracted_text)\n"
   ]
  },
  {
   "cell_type": "code",
   "execution_count": 40,
   "id": "9b5bf027",
   "metadata": {},
   "outputs": [],
   "source": [
    "def parse_food_data(file_path):\n",
    "    with open(file_path, 'r', encoding='utf-8') as file:\n",
    "        lines = file.readlines()\n",
    "\n",
    "    food_data = []\n",
    "    food_item = {}\n",
    "\n",
    "    for line in lines:\n",
    "        line = line.strip()\n",
    "        if line.startswith(\"No.\"):\n",
    "            if food_item:\n",
    "                food_item[\"Image Link\"] = \"https://example.com/placeholder.jpg\"\n",
    "                food_data.append(food_item)\n",
    "                \n",
    "            food_item = {\"No\": line}\n",
    "        elif line:\n",
    "            key, value = line.split(':', 1)\n",
    "            food_item[key.strip()] = value.strip()\n",
    "\n",
    "    if food_item:\n",
    "        food_data.append(food_item)\n",
    "\n",
    "    return food_data\n",
    "\n",
    "def find_matching_food_items(food_data, keyword):\n",
    "    matching_items = []\n",
    "    for item in food_data:\n",
    "        if keyword.lower() in item['Name'].lower():\n",
    "            matching_items.append(item)\n",
    "    return matching_items\n",
    "\n",
    "def convert_to_html_table(data):\n",
    "    if not data:\n",
    "        return \"<p>No data to display</p>\"\n",
    "\n",
    "    # Start the HTML table\n",
    "    html = \"<table border='1'>\\n\"\n",
    "\n",
    "    # Add the header row\n",
    "    headers = data[0].keys()\n",
    "    html += \"<tr>\\n\"\n",
    "    for header in headers:\n",
    "        html += f\"<th>{header}</th>\\n\"\n",
    "    html += \"</tr>\\n\"\n",
    "\n",
    "    # Add the data rows\n",
    "    for item in data:\n",
    "        html += \"<tr>\\n\"\n",
    "        for value in item.values():\n",
    "            html += f\"<td>{value}</td>\\n\"\n",
    "        html += \"</tr>\\n\"\n",
    "\n",
    "    # End the HTML table\n",
    "    html += \"</table>\"\n",
    "\n",
    "    return html"
   ]
  },
  {
   "cell_type": "code",
   "execution_count": 41,
   "id": "14c84bc1",
   "metadata": {},
   "outputs": [],
   "source": [
    "food_data = parse_food_data('category_jp_eng_cn.txt')\n",
    "items = find_matching_food_items(food_data,'hamburger')"
   ]
  },
  {
   "cell_type": "code",
   "execution_count": 42,
   "id": "d20fad7d",
   "metadata": {
    "scrolled": true
   },
   "outputs": [
    {
     "data": {
      "text/plain": [
       "[{'No': 'No.17',\n",
       "  'Name': 'ハンバーガー/Hamburger/汉堡包',\n",
       "  'Ingredient': 'Beef Patty, Bun, Lettuce, Tomato, Cheese, Ketchup, Mustard',\n",
       "  'Calory': '250 kcal',\n",
       "  'Protein': '13.6 g',\n",
       "  'Carbohydrate': '31.6 g',\n",
       "  'Fat': '8.6 g',\n",
       "  'Sugar': '6.0 g',\n",
       "  'Salt': '1.0 g',\n",
       "  'Image Link': 'https://example.com/placeholder.jpg'},\n",
       " {'No': 'No.60',\n",
       "  'Name': 'ハンバーグステーキ/Hamburger Steak/汉堡牛排',\n",
       "  'Ingredient': 'Ground Beef, Breadcrumbs, Onion, Gravy',\n",
       "  'Calory': '280 kcal',\n",
       "  'Protein': '16.5 g',\n",
       "  'Carbohydrate': '7.8 g',\n",
       "  'Fat': '20.3 g',\n",
       "  'Sugar': '2.1 g',\n",
       "  'Salt': '1.3 g',\n",
       "  'Image Link': 'https://example.com/placeholder.jpg'}]"
      ]
     },
     "execution_count": 42,
     "metadata": {},
     "output_type": "execute_result"
    }
   ],
   "source": [
    "items"
   ]
  },
  {
   "cell_type": "code",
   "execution_count": 25,
   "id": "9d4e5657",
   "metadata": {
    "scrolled": true
   },
   "outputs": [
    {
     "data": {
      "text/plain": [
       "list"
      ]
     },
     "execution_count": 25,
     "metadata": {},
     "output_type": "execute_result"
    }
   ],
   "source": [
    "type(food_data)"
   ]
  },
  {
   "cell_type": "code",
   "execution_count": 37,
   "id": "a835be98",
   "metadata": {},
   "outputs": [
    {
     "name": "stdout",
     "output_type": "stream",
     "text": [
      "222\n"
     ]
    }
   ],
   "source": [
    "for item in items:\n",
    "    temp = item['No'].split('No.')\n",
    "    print(temp[1])"
   ]
  },
  {
   "cell_type": "code",
   "execution_count": 5,
   "id": "a68ff0c8",
   "metadata": {},
   "outputs": [
    {
     "ename": "NameError",
     "evalue": "name 'japanese_text' is not defined",
     "output_type": "error",
     "traceback": [
      "\u001b[0;31m---------------------------------------------------------------------------\u001b[0m",
      "\u001b[0;31mNameError\u001b[0m                                 Traceback (most recent call last)",
      "\u001b[0;32m/tmp/ipykernel_702611/1403278331.py\u001b[0m in \u001b[0;36m<module>\u001b[0;34m\u001b[0m\n\u001b[1;32m      3\u001b[0m \u001b[0;34m\u001b[0m\u001b[0m\n\u001b[1;32m      4\u001b[0m \u001b[0;31m# Translate the extracted text to Japanese\u001b[0m\u001b[0;34m\u001b[0m\u001b[0;34m\u001b[0m\u001b[0;34m\u001b[0m\u001b[0m\n\u001b[0;32m----> 5\u001b[0;31m \u001b[0mtranslated_text\u001b[0m \u001b[0;34m=\u001b[0m \u001b[0mtranslator\u001b[0m\u001b[0;34m.\u001b[0m\u001b[0mtranslate\u001b[0m\u001b[0;34m(\u001b[0m\u001b[0mjapanese_text\u001b[0m\u001b[0;34m,\u001b[0m \u001b[0msrc\u001b[0m\u001b[0;34m=\u001b[0m\u001b[0;34m'ja'\u001b[0m\u001b[0;34m,\u001b[0m \u001b[0mdest\u001b[0m\u001b[0;34m=\u001b[0m\u001b[0;34m'en'\u001b[0m\u001b[0;34m)\u001b[0m\u001b[0;34m\u001b[0m\u001b[0;34m\u001b[0m\u001b[0m\n\u001b[0m\u001b[1;32m      6\u001b[0m \u001b[0;34m\u001b[0m\u001b[0m\n\u001b[1;32m      7\u001b[0m \u001b[0;31m# Print the original and translated text\u001b[0m\u001b[0;34m\u001b[0m\u001b[0;34m\u001b[0m\u001b[0;34m\u001b[0m\u001b[0m\n",
      "\u001b[0;31mNameError\u001b[0m: name 'japanese_text' is not defined"
     ]
    }
   ],
   "source": [
    "# Initialize the translator\n",
    "translator = Translator()\n",
    "\n",
    "# Translate the extracted text to Japanese\n",
    "translated_text = translator.translate(japanese_text, src='ja', dest='en')\n",
    "\n",
    "# Print the original and translated text\n",
    "print(\"Original Text:\")\n",
    "print(japanese_text)\n",
    "\n",
    "print(\"\\nTranslated Text:\")\n",
    "print(translated_text.text)"
   ]
  },
  {
   "cell_type": "code",
   "execution_count": 4,
   "id": "9d803ddc",
   "metadata": {},
   "outputs": [
    {
     "name": "stdout",
     "output_type": "stream",
     "text": [
      "Original Text:\n",
      "メニ ュー HiR お 33 め お 弁 ぎ\n",
      "\n",
      " \n",
      "\n",
      "menu “Appetizers Special Bento\n",
      "EX zz 29 お 持ち 帰り\n",
      "ides Entrees Sushi menu ‘Take out\n",
      "プ ィ ナー SS Rote ERR\n",
      "Dinner ments és Snacks ~ Delivery\n",
      "Svt OUD TF TR\n",
      "Tunck menu DPinks “Reservation I\\\n",
      "\n",
      " \n",
      "\n",
      " \n",
      "\n",
      " \n",
      "\n",
      "itt) = OAS 6 Os\n",
      "nop As ene ze Ng a\n",
      "+39\"\n",
      "\n",
      "デザ - ト ウイ ン\n",
      "\n",
      "“Desserts “Wine list 8 SuSHI\n",
      "\n",
      "Zhe 2 N.S ae SE Japanese\n",
      "\n",
      "K °8 yonKyey NC ~ Restaurant\n",
      "“Shame «01234-56789 Bar\n",
      "\n",
      "pixtastock.com - 6717902\n",
      "\f",
      "\n",
      "\n",
      "Translated Text:\n",
      "Menu HIR 33\n",
      "\n",
      " \n",
      "\n",
      "Menu \"Appetizers Special Bento\n",
      "EX ZZ 29 Bring home\n",
      "IDES ENTREES SUSHI MENU ‘TAKE OUT\n",
      "Piina SS ROTE ERR\n",
      "DINNER MENTS éS Snacks ~ Delivery\n",
      "SVT OUD TF TR\n",
      "TUNCK MENU DPINKS \"Reservation I \\\n",
      "\n",
      " \n",
      "\n",
      " \n",
      "\n",
      " \n",
      "\n",
      "ITT) = OAS 6 OS\n",
      "NOP AS ENE ZE NG A\n",
      "+39 \"\n",
      "\n",
      "Desza -Tien\n",
      "\n",
      "“Desserts“ Wine List 8 Sushi ”\n",
      "\n",
      "ZHE 2 N.SE SE JAPANESE\n",
      "\n",
      "K ° 8 YONKYEY NC ~ Restaurant\n",
      "“Shame« 01234-56789 BAR\n",
      "\n",
      "pixTASTOCK.com --6717902\n"
     ]
    }
   ],
   "source": [
    "# Initialize the translator\n",
    "translator = Translator()\n",
    "\n",
    "# Translate the extracted text to Japanese\n",
    "translated_text = translator.translate(extracted_text, src='ja', dest='en')\n",
    "\n",
    "# Print the original and translated text\n",
    "print(\"Original Text:\")\n",
    "print(extracted_text)\n",
    "\n",
    "print(\"\\nTranslated Text:\")\n",
    "print(translated_text.text)"
   ]
  },
  {
   "cell_type": "code",
   "execution_count": null,
   "id": "8b0ede0f",
   "metadata": {},
   "outputs": [],
   "source": []
  },
  {
   "cell_type": "code",
   "execution_count": null,
   "id": "3d1f8c81",
   "metadata": {},
   "outputs": [],
   "source": []
  },
  {
   "cell_type": "code",
   "execution_count": 1,
   "id": "e937f553",
   "metadata": {},
   "outputs": [
    {
     "name": "stdout",
     "output_type": "stream",
     "text": [
      "こんにちは\n"
     ]
    }
   ],
   "source": []
  },
  {
   "cell_type": "code",
   "execution_count": null,
   "id": "976803f0",
   "metadata": {},
   "outputs": [],
   "source": []
  },
  {
   "cell_type": "code",
   "execution_count": null,
   "id": "db72e527",
   "metadata": {},
   "outputs": [],
   "source": []
  },
  {
   "cell_type": "code",
   "execution_count": null,
   "id": "38c034e9",
   "metadata": {},
   "outputs": [],
   "source": []
  },
  {
   "cell_type": "code",
   "execution_count": null,
   "id": "ff97701b",
   "metadata": {},
   "outputs": [],
   "source": []
  },
  {
   "cell_type": "code",
   "execution_count": null,
   "id": "b76e26be",
   "metadata": {},
   "outputs": [],
   "source": []
  },
  {
   "cell_type": "code",
   "execution_count": null,
   "id": "ebd1bdcb",
   "metadata": {},
   "outputs": [],
   "source": []
  },
  {
   "cell_type": "code",
   "execution_count": null,
   "id": "3b60360c",
   "metadata": {},
   "outputs": [],
   "source": []
  },
  {
   "cell_type": "code",
   "execution_count": null,
   "id": "e001d986",
   "metadata": {},
   "outputs": [],
   "source": []
  },
  {
   "cell_type": "code",
   "execution_count": null,
   "id": "3b746cc4",
   "metadata": {},
   "outputs": [],
   "source": []
  },
  {
   "cell_type": "code",
   "execution_count": null,
   "id": "3ab6ec05",
   "metadata": {},
   "outputs": [],
   "source": []
  },
  {
   "cell_type": "code",
   "execution_count": null,
   "id": "79664b26",
   "metadata": {},
   "outputs": [],
   "source": []
  },
  {
   "cell_type": "code",
   "execution_count": null,
   "id": "9b03de5d",
   "metadata": {},
   "outputs": [],
   "source": []
  },
  {
   "cell_type": "code",
   "execution_count": 1,
   "id": "80725036",
   "metadata": {},
   "outputs": [
    {
     "ename": "NameError",
     "evalue": "name 'pytesseract' is not defined",
     "output_type": "error",
     "traceback": [
      "\u001b[0;31m---------------------------------------------------------------------------\u001b[0m",
      "\u001b[0;31mNameError\u001b[0m                                 Traceback (most recent call last)",
      "\u001b[0;32m/tmp/ipykernel_703123/91893268.py\u001b[0m in \u001b[0;36m<module>\u001b[0;34m\u001b[0m\n\u001b[1;32m      4\u001b[0m \u001b[0;34m\u001b[0m\u001b[0m\n\u001b[1;32m      5\u001b[0m \u001b[0;31m# Path to your Tesseract executable (if not in PATH)\u001b[0m\u001b[0;34m\u001b[0m\u001b[0;34m\u001b[0m\u001b[0;34m\u001b[0m\u001b[0m\n\u001b[0;32m----> 6\u001b[0;31m \u001b[0mpytesseract\u001b[0m\u001b[0;34m.\u001b[0m\u001b[0mpytesseract\u001b[0m\u001b[0;34m.\u001b[0m\u001b[0mtesseract_cmd\u001b[0m \u001b[0;34m=\u001b[0m \u001b[0;34m'/usr/bin/tesseract'\u001b[0m\u001b[0;34m\u001b[0m\u001b[0;34m\u001b[0m\u001b[0m\n\u001b[0m\u001b[1;32m      7\u001b[0m \u001b[0;34m\u001b[0m\u001b[0m\n\u001b[1;32m      8\u001b[0m \u001b[0;31m# Load an image\u001b[0m\u001b[0;34m\u001b[0m\u001b[0;34m\u001b[0m\u001b[0;34m\u001b[0m\u001b[0m\n",
      "\u001b[0;31mNameError\u001b[0m: name 'pytesseract' is not defined"
     ]
    }
   ],
   "source": [
    "## import pytesseract\n",
    "from PIL import Image\n",
    "from googletrans import Translator\n",
    "\n",
    "# Path to your Tesseract executable (if not in PATH)\n",
    "pytesseract.pytesseract.tesseract_cmd = '/usr/bin/tesseract'\n",
    "\n",
    "# Load an image\n",
    "image_path = '3.png'\n",
    "image = Image.open(image_path)\n",
    "\n",
    "# Perform OCR on the image\n",
    "extracted_text = pytesseract.image_to_string(image, lang='eng+jpn')\n",
    "\n",
    "# Initialize the translator\n",
    "translator = Translator()\n",
    "\n",
    "# Translate the extracted text to Japanese\n",
    "translated_text = translator.translate(extracted_text, src='ja', dest='en')\n",
    "\n",
    "# Print the original and translated text\n",
    "print(\"Original Text:\")\n",
    "print(extracted_text)\n",
    "\n",
    "print(\"\\nTranslated Text:\")\n",
    "print(translated_text.text)\n"
   ]
  }
 ],
 "metadata": {
  "kernelspec": {
   "display_name": "Python 3 (ipykernel)",
   "language": "python",
   "name": "python3"
  },
  "language_info": {
   "codemirror_mode": {
    "name": "ipython",
    "version": 3
   },
   "file_extension": ".py",
   "mimetype": "text/x-python",
   "name": "python",
   "nbconvert_exporter": "python",
   "pygments_lexer": "ipython3",
   "version": "3.7.16"
  }
 },
 "nbformat": 4,
 "nbformat_minor": 5
}

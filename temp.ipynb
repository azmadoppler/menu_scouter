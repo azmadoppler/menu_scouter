{
 "cells": [
  {
   "cell_type": "code",
   "execution_count": 8,
   "id": "e4eb06fe",
   "metadata": {},
   "outputs": [
    {
     "ename": "IndexError",
     "evalue": "no such group",
     "output_type": "error",
     "traceback": [
      "\u001b[1;31m---------------------------------------------------------------------------\u001b[0m",
      "\u001b[1;31mIndexError\u001b[0m                                Traceback (most recent call last)",
      "\u001b[1;32m<ipython-input-8-12935895705b>\u001b[0m in \u001b[0;36m<module>\u001b[1;34m\u001b[0m\n\u001b[0;32m     10\u001b[0m \u001b[0mmatches\u001b[0m \u001b[1;33m=\u001b[0m \u001b[0mre\u001b[0m\u001b[1;33m.\u001b[0m\u001b[0msearch\u001b[0m\u001b[1;33m(\u001b[0m\u001b[0mpattern\u001b[0m\u001b[1;33m,\u001b[0m \u001b[0mhtml\u001b[0m\u001b[1;33m)\u001b[0m\u001b[1;33m\u001b[0m\u001b[1;33m\u001b[0m\u001b[0m\n\u001b[0;32m     11\u001b[0m \u001b[1;32mif\u001b[0m \u001b[0mmatches\u001b[0m\u001b[1;33m:\u001b[0m\u001b[1;33m\u001b[0m\u001b[1;33m\u001b[0m\u001b[0m\n\u001b[1;32m---> 12\u001b[1;33m     \u001b[0mimage_name\u001b[0m \u001b[1;33m=\u001b[0m \u001b[0mmatches\u001b[0m\u001b[1;33m.\u001b[0m\u001b[0mgroup\u001b[0m\u001b[1;33m(\u001b[0m\u001b[1;36m1\u001b[0m\u001b[1;33m)\u001b[0m\u001b[1;33m\u001b[0m\u001b[1;33m\u001b[0m\u001b[0m\n\u001b[0m\u001b[0;32m     13\u001b[0m     \u001b[0mfood_name\u001b[0m \u001b[1;33m=\u001b[0m \u001b[0mmatches\u001b[0m\u001b[1;33m.\u001b[0m\u001b[0mgroup\u001b[0m\u001b[1;33m(\u001b[0m\u001b[1;36m2\u001b[0m\u001b[1;33m)\u001b[0m\u001b[1;33m\u001b[0m\u001b[1;33m\u001b[0m\u001b[0m\n\u001b[0;32m     14\u001b[0m     \u001b[0mprint\u001b[0m\u001b[1;33m(\u001b[0m\u001b[1;34m\"Image Name:\"\u001b[0m\u001b[1;33m,\u001b[0m \u001b[0mimage_name\u001b[0m\u001b[1;33m)\u001b[0m\u001b[1;33m\u001b[0m\u001b[1;33m\u001b[0m\u001b[0m\n",
      "\u001b[1;31mIndexError\u001b[0m: no such group"
     ]
    }
   ],
   "source": [
    "import re\n",
    "\n",
    "html = \"\"\"\n",
    "<span class=\"font-bold text-xl text-red-500 mx-1\">65.5<span class=\"text-xs\">点</span></span><span class=\"text-xs text-gray-500\">(55人が評価)</span></div><div class=\"sm:flex sm:space-x-4 mt-4\"><div class=\"sm:shrink-0\"><a target=\"blank\" href=\"https://ranking.net/items/f01e98\"><img alt=\"たい焼き\" class=\"js-lozad w-60 h-60 object-cover max-w-full mx-auto\" data-src=\"https://img.ranking.net/uploads/item/image/89/d4/8b/default_cropped_shutterstock_1236733789.jpg\" src=\"./【人気投票 1~125位】定番和食メニューランキング！みんなが好きな和食料理は？ _ みんなのランキング_files/default_cropped_shutterstock_1236733789.jpg\" width=\"300\" height=\"300\" data-loaded=\"true\"></a></div><div class=\"sm:grow\"><p class=\"text-xs\">たい焼き（たいやき、鯛焼き、タイヤキ）は、鯛を形とった金属製焼き型で焼いて作られた食べ物であり、餡（あん）入りで小麦粉主体の和菓子である。明治時代から食べられている日本の菓子。\n",
    "主に日本国内で製造、販売、消費されている。</p></div>\n",
    "\"\"\"\n",
    "\n",
    "pattern = r'<p class=\"text-xs\">'\n",
    "\n",
    "matches = re.search(pattern, html)\n",
    "if matches:\n",
    "    image_name = matches.group(1)\n",
    "    food_name = matches.group(2)\n",
    "    print(\"Image Name:\", image_name)\n",
    "    print(\"Food Name:\", food_name)\n",
    "else:\n",
    "    print(\"No match found.\")"
   ]
  },
  {
   "cell_type": "code",
   "execution_count": 17,
   "id": "8f78001f",
   "metadata": {},
   "outputs": [
    {
     "name": "stdout",
     "output_type": "stream",
     "text": [
      "Food Name: たい焼き\n",
      "No match found.\n"
     ]
    }
   ],
   "source": [
    "import re\n",
    "\n",
    "html = \"\"\"\n",
    "<span class=\"font-bold text-xl text-red-500 mx-1\">65.5<span class=\"text-xs\">点</span></span><span class=\"text-xs text-gray-500\">(55人が評価)</span></div><div class=\"sm:flex sm:space-x-4 mt-4\"><div class=\"sm:shrink-0\"><a target=\"blank\" href=\"https://ranking.net/items/f01e98\"><img alt=\"たい焼き\" class=\"js-lozad w-60 h-60 object-cover max-w-full mx-auto\" data-src=\"https://img.ranking.net/uploads/item/image/89/d4/8b/default_cropped_shutterstock_1236733789.jpg\" src=\"./【人気投票 1~125位】定番和食メニューランキング！みんなが好きな和食料理は？ _ みんなのランキング_files/default_cropped_shutterstock_1236733789.jpg\" width=\"300\" height=\"300\" data-loaded=\"true\"></a></div><div class=\"sm:grow\"><p class=\"text-xs\">たい焼き（たいやき、鯛焼き、タイヤキ）は、鯛を形とった金属製焼き型で焼いて作られた食べ物であり、餡（あん）入りで小麦粉主体の和菓子である。明治時代から食べられている日本の菓子。\n",
    "主に日本国内で製造、販売、消費されている。</p></div>\n",
    "\"\"\"\n",
    "pattern = r'alt=\"(.*?)\" class=\"js-lozad w-60 h-60 object-cover'\n",
    "#pattern2 = r'data-src=\".*?/([^/\"]+\\.(?:png))\"'\n",
    "\n",
    "matches = re.search(pattern, html)\n",
    "if matches:\n",
    "    food_name = matches.group(1)\n",
    "    print(\"Food Name:\", food_name)\n",
    "else:\n",
    "    print(\"No match found.\")\n",
    "    \n",
    "    \n",
    "matches = re.search(pattern2, html)\n",
    "if matches:\n",
    "    food_img = matches.group(1)\n",
    "    print(\"Food img:\", food_name)\n",
    "else:\n",
    "    print(\"No match found.\")\n",
    "\n"
   ]
  },
  {
   "cell_type": "code",
   "execution_count": 9,
   "id": "c58bc43a",
   "metadata": {},
   "outputs": [
    {
     "data": {
      "text/plain": [
       "'<p class=\"text-xs\">'"
      ]
     },
     "execution_count": 9,
     "metadata": {},
     "output_type": "execute_result"
    }
   ],
   "source": [
    "pattern"
   ]
  }
 ],
 "metadata": {
  "kernelspec": {
   "display_name": "Python 3",
   "language": "python",
   "name": "python3"
  },
  "language_info": {
   "codemirror_mode": {
    "name": "ipython",
    "version": 3
   },
   "file_extension": ".py",
   "mimetype": "text/x-python",
   "name": "python",
   "nbconvert_exporter": "python",
   "pygments_lexer": "ipython3",
   "version": "3.8.8"
  }
 },
 "nbformat": 4,
 "nbformat_minor": 5
}
